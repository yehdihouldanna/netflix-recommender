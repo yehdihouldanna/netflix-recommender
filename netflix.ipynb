{
  "nbformat": 4,
  "nbformat_minor": 0,
  "metadata": {
    "jupytext": {
      "formats": "ipynb,py:percent"
    },
    "kernelspec": {
      "name": "python3",
      "display_name": "Python 3"
    },
    "language_info": {
      "codemirror_mode": {
        "name": "ipython",
        "version": 3
      },
      "file_extension": ".py",
      "mimetype": "text/x-python",
      "name": "python",
      "nbconvert_exporter": "python",
      "pygments_lexer": "ipython3",
      "version": "3.7.5"
    },
    "colab": {
      "name": "netflix.ipynb",
      "provenance": [],
      "collapsed_sections": []
    }
  },
  "cells": [
    {
      "cell_type": "code",
      "metadata": {
        "id": "o4neCGd7DqXz",
        "colab_type": "code",
        "colab": {}
      },
      "source": [
        "import numpy as np\n",
        "import matplotlib.pyplot as plt\n",
        "%tensorflow_version 2.x\n",
        "import tensorflow as tf\n",
        "from tensorflow.keras import layers\n",
        "from tensorflow.keras.models import Model\n",
        "from tensorflow.keras.layers import Embedding, Flatten, Input, Dense\n",
        "from tensorflow.keras.layers import Lambda, Dot\n",
        "from tensorflow.keras.regularizers import l2"
      ],
      "execution_count": 0,
      "outputs": []
    },
    {
      "cell_type": "markdown",
      "metadata": {
        "id": "1eB-ktQzDqYI",
        "colab_type": "text"
      },
      "source": [
        "# Rating environment"
      ]
    },
    {
      "cell_type": "code",
      "metadata": {
        "id": "PzO6-BD7DqYR",
        "colab_type": "code",
        "colab": {}
      },
      "source": [
        "N_FEATURES = 10\n",
        "N_USERS = 20\n",
        "N_MOVIES = 100\n",
        "MAX_USERS = 300\n",
        "MAX_MOVIES = 1000\n",
        "\n",
        "# https://www.desmos.com/calculator/ftbdppvm03"
      ],
      "execution_count": 0,
      "outputs": []
    },
    {
      "cell_type": "markdown",
      "metadata": {
        "id": "EAyttGzdDqYd",
        "colab_type": "text"
      },
      "source": [
        "## Helper functions"
      ]
    },
    {
      "cell_type": "code",
      "metadata": {
        "id": "KS_9sgLkDqYg",
        "colab_type": "code",
        "colab": {}
      },
      "source": [
        "def generate_data(n_samples, n_features, rng=np.random.default_rng(), scheme=\"gauss\", n_means=10, means_pol=5, pol=5, pol_threshold=1e-5):\n",
        "    if scheme == \"gauss\":\n",
        "        means = 2 * np.random.random((n_means, n_features)) - 1\n",
        "        old_norms = np.linalg.norm(means, axis=1)\n",
        "        for i in range(len(means)):\n",
        "            means[i] = np.sign(means[i]) * np.abs(means[i]) ** means_pol\n",
        "            means[i][np.abs(means[i]) < pol_threshold] = 0\n",
        "        new_norms = np.linalg.norm(means, axis=1)\n",
        "        for i in range(len(means)):\n",
        "            means[i] *= old_norms[i] / new_norms[i]\n",
        "        data = np.zeros((n_samples, n_features))\n",
        "        batch_size = n_samples // n_means\n",
        "        for i in range(n_means):\n",
        "            data[batch_size*i:batch_size*(i+1)] = rng.multivariate_normal(means[i], np.identity(n_features)/n_features, batch_size)\n",
        "        return means, data\n",
        "\n",
        "    elif scheme == \"polarized\":\n",
        "        data = 2 * rng.random((n_samples, n_features)) - 1\n",
        "        for i in range(len(data)):\n",
        "            polarization = rng.choice(pol-2) + 2\n",
        "            data[i] = np.sign(data[i]) * np.abs(data[i]) ** polarization\n",
        "            data[i][np.abs(data[i]) < pol_threshold] = 0\n",
        "        return data\n",
        "    else:\n",
        "        raise ValueError(\"unknown scheme\")\n",
        "\n",
        "def cosine_similarity(user, movie):\n",
        "    return np.dot(user, movie) / (np.linalg.norm(user) * np.linalg.norm(movie))\n",
        "\n",
        "def reward_func(user, movie):\n",
        "    \"\"\"return cosine similarity somewhat polarized, then scaled and shifted between 0 and 5\"\"\"\n",
        "    x = cosine_similarity(user, movie)\n",
        "    if x == -1:\n",
        "        return -1\n",
        "    x = 0.5 * (x + 1)\n",
        "    x = 1 / (1 + (((1-x)/x)**1.5))\n",
        "    return x * 2 - 1\n",
        "\n",
        "def get_rewards_matrix(users, movies, reward_f=reward_func):\n",
        "    n_users, n_movies = len(users), len(movies)\n",
        "    res = np.zeros((n_users, n_movies))\n",
        "    for i in range(n_users):\n",
        "        for j in range(n_movies):\n",
        "            res[i][j] = reward_f(users[i], movies[j])\n",
        "    return res\n",
        "\n",
        "def get_seen_matrix(n_users, n_movies, history):\n",
        "    res = np.zeros((n_users, n_movies))\n",
        "    for user_idx, movie_idx in history:\n",
        "        res[user_idx][movie_idx] = 1\n",
        "    return res"
      ],
      "execution_count": 0,
      "outputs": []
    },
    {
      "cell_type": "code",
      "metadata": {
        "id": "MVHN94WTa-29",
        "colab_type": "code",
        "colab": {}
      },
      "source": [
        "# means, movies = generate_data(50, 10, rng=np.random.default_rng(), scheme=\"gauss\", n_means=5, means_pol=5, pol=20, pol_threshold=1e-5)\n",
        "# users = generate_data(10, 10, rng=np.random.default_rng(), scheme=\"polarized\", n_means=2, means_pol=5, pol=20, pol_threshold=1e-5)"
      ],
      "execution_count": 0,
      "outputs": []
    },
    {
      "cell_type": "code",
      "metadata": {
        "id": "lgIpAGrycWcL",
        "colab_type": "code",
        "colab": {}
      },
      "source": [
        "# np.array([[reward_func(m, u) for m in means] for u in users])"
      ],
      "execution_count": 0,
      "outputs": []
    },
    {
      "cell_type": "markdown",
      "metadata": {
        "id": "VUaOmepxDqZQ",
        "colab_type": "text"
      },
      "source": [
        "## Environment"
      ]
    },
    {
      "cell_type": "code",
      "metadata": {
        "id": "pNEeRuIlDqZW",
        "colab_type": "code",
        "colab": {}
      },
      "source": [
        "class Environment:\n",
        "    \n",
        "    def __init__(self, \n",
        "                 n_features=N_FEATURES, \n",
        "                 max_users=MAX_USERS,\n",
        "                 max_movies=MAX_MOVIES,\n",
        "                 n_users=N_USERS, \n",
        "                 n_movies=N_MOVIES,\n",
        "                 history=None, \n",
        "                 reward_f=reward_func, \n",
        "                 context_size=10,\n",
        "                 a=0.05,\n",
        "                 b=0.025,\n",
        "                 c=3,\n",
        "                 d=0,\n",
        "                 quit_prob_init=0.05,\n",
        "                 subscription_rate=20,\n",
        "                 movie_change_rate=1,\n",
        "                 remove_movie_definitely=False,\n",
        "                 seed=None):\n",
        "      \n",
        "        self.reset(n_features=n_features, max_users=max_users, \n",
        "                   max_movies=max_movies, n_users=n_users, n_movies=n_movies, \n",
        "                   history=history, reward_f=reward_f, \n",
        "                   context_size=context_size, a=a, b=b, c=c, d=d, \n",
        "                   quit_prob_init=quit_prob_init, \n",
        "                   subscription_rate=subscription_rate, \n",
        "                   movie_change_rate=movie_change_rate, \n",
        "                   remove_movie_definitely=remove_movie_definitely,\n",
        "                   seed=seed)\n",
        "        \n",
        "    def reset(self, n_features=N_FEATURES, max_users=MAX_USERS, \n",
        "              max_movies=MAX_MOVIES, n_users=N_USERS, n_movies=N_MOVIES, \n",
        "              history=None, reward_f=reward_func, context_size=10, \n",
        "              a=0.05, b=0.025, c=3, d=0, quit_prob_init=0.05, \n",
        "              subscription_rate=20, movie_change_rate=1,\n",
        "              remove_movie_definitely=False, seed=None):\n",
        "        \n",
        "        self.n_features = n_features\n",
        "        self.max_users = max_users\n",
        "        self.max_movies = max_movies\n",
        "        self.n_users = n_users\n",
        "        self.optimal_users = n_users\n",
        "        self.n_movies = n_movies\n",
        "        self.context_size = context_size\n",
        "        self.quit_prob_init = quit_prob_init\n",
        "        self.subscription_rate = subscription_rate\n",
        "        self.rng = np.random.default_rng(seed)\n",
        "        self.movie_change_rate = movie_change_rate\n",
        "        self.remove_movie_definitely = remove_movie_definitely\n",
        "\n",
        "        self.users = generate_data(max_users, n_features, self.rng, scheme=\"polarized\")\n",
        "        self.means, self.movies = generate_data(max_movies, n_features, self.rng, scheme=\"gauss\")\n",
        "        self.movies_with_noise = self.movies + self.rng.normal(0, 0.01, self.movies.shape)\n",
        "        self.rewards_matrix = get_rewards_matrix(self.users, self.movies, reward_f)\n",
        "        self.status_users = np.zeros(max_users)\n",
        "        self.status_movies = np.zeros(max_movies)\n",
        "        self.quit_probabilities = np.zeros(max_users) + quit_prob_init\n",
        "        self.init_status()\n",
        "\n",
        "        self.get_update_prob_coeff = lambda x : -a / (1 + np.exp(-(c*x-d))) + b\n",
        "        self.history = [] if history is None else history\n",
        "        self.seen_matrix = get_seen_matrix(self.max_users, self.max_movies, self.history)\n",
        "        self.step_count_tracker = 0\n",
        "    \n",
        "    def add_movie(self, movie_idx=None):\n",
        "        if movie_idx is None:\n",
        "            not_airing = np.nonzero(self.status_movies == 0)[0]\n",
        "            n = len(not_airing)\n",
        "            if n > 0:\n",
        "                self.status_movies[not_airing[self.rng.choice(n)]] = 1\n",
        "        else:\n",
        "            assert self.status_movies[movie_idx] == 0, \"trying to add a movie which is already airing\"\n",
        "            self.status_movies[movie_idx] = 1\n",
        "        self.n_movies += 1\n",
        "\n",
        "    def add_user(self, user_idx=None):\n",
        "        if user_idx is None:\n",
        "            not_subscribed = np.nonzero(self.status_users == 0)[0]\n",
        "            n = len(not_subscribed)\n",
        "            if n > 0:\n",
        "                user_idx = not_subscribed[self.rng.choice(n)]\n",
        "                self.status_users[user_idx] = 1\n",
        "                self.quit_probabilities[user_idx] = self.quit_prob_init\n",
        "        else:\n",
        "            assert self.status_users[user_idx] == 0, \"trying to add a user which is already subscribed\"\n",
        "            self.status_users[user_idx] = 1\n",
        "            self.quit_probabilities[user_idx] = self.quit_prob_init\n",
        "        self.n_users += 1\n",
        "        self.optimal_users += 1\n",
        "\n",
        "    def get_best_movie(self, user_idx, context):\n",
        "        \"\"\"for implicit feedback training\"\"\"\n",
        "        rewards = [self.rewards_matrix[user_idx][m_idx] for m_idx in context]\n",
        "        best_movie = context[np.argmax(rewards)]\n",
        "        return best_movie\n",
        "\n",
        "    def get_reward(self, user_idx, movie_idx, context, should_update=True):\n",
        "        \"\"\"returns a binary reward\"\"\"\n",
        "        \n",
        "        reward = self.rewards_matrix[user_idx][movie_idx]\n",
        "        \n",
        "        # keep best choice consequences for regret computations\n",
        "        best_reward = np.max([self.rewards_matrix[user_idx][m_idx] for m_idx in context])\n",
        "        optimal_quit_prob = self.quit_probabilities[user_idx] + self.get_update_prob_coeff(best_reward)\n",
        "        optimal_quit_prob = max(0, min(1, optimal_quit_prob))\n",
        "        if should_update:\n",
        "            self.optimal_users -= optimal_quit_prob\n",
        "            self.update_probability(user_idx, reward)\n",
        "            self.update_quit(user_idx)\n",
        "\n",
        "        self.update_history(user_idx, movie_idx, reward, best_reward, self.n_users, self.optimal_users, context)\n",
        "\n",
        "        return 1 if reward > 0 else -1\n",
        "    \n",
        "    def get_next_step(self, should_update=True):\n",
        "        self.step_count_tracker += 1\n",
        "        if self.step_count_tracker % self.movie_change_rate == 0:\n",
        "            env.add_movie()\n",
        "            env.remove_movie(definitely=self.remove_movie_definitely)\n",
        "        if should_update and self.step_count_tracker % self.subscription_rate == 0:\n",
        "            self.add_user()\n",
        "        subscribed_users = np.nonzero(self.status_users == 1)[0]\n",
        "        if len(subscribed_users) == 0:\n",
        "            return -2, None\n",
        "        else:\n",
        "            user_permutation = self.rng.permutation(subscribed_users)\n",
        "            for user_idx in user_permutation:  # try until you can suggest a movie to a user\n",
        "                seen_movies = np.nonzero(self.seen_matrix[user_idx])[0]\n",
        "                airing_movies = np.nonzero(self.status_movies)[0]\n",
        "                available_movies = list(set(airing_movies) - set(seen_movies))\n",
        "                if len(available_movies) > 0:\n",
        "                    self.rng.shuffle(available_movies)\n",
        "                    context = available_movies[:self.context_size]\n",
        "                    return user_idx, context\n",
        "        # if the users have seen all the movies that are airing\n",
        "            return -1, None\n",
        "    \n",
        "    def init_status(self):\n",
        "        users_init = self.rng.choice(self.max_users, self.n_users, replace=False)\n",
        "        movies_init = self.rng.choice(self.max_movies, self.n_movies, replace=False)\n",
        "        self.status_users[users_init] = 1\n",
        "        self.status_movies[movies_init] = 1\n",
        "\n",
        "    def remove_movie(self, movie_idx=None, definitely=True):\n",
        "        new_status = -1 if definitely else 0  # -1 if definitely else 0\n",
        "        if movie_idx is None:\n",
        "            airing = np.nonzero(self.status_movies == 1)[0]\n",
        "            n = len(airing)\n",
        "            if n > 0:\n",
        "                self.status_movies[airing[self.rng.choice(n)]] = new_status\n",
        "        else:\n",
        "            assert self.status_movies[movie_idx] == 1, \"trying to remove a movie which is not airing\"\n",
        "            self.status_movies[movie_idx] = new_status\n",
        "        self.n_movies -= 1\n",
        "\n",
        "    def remove_user(self, user_idx=None, definitely=True):\n",
        "        new_status = -1 if definitely else 0  # -1 if definitely else 0\n",
        "        if user_idx is None:\n",
        "            subscribed = np.nonzero(self.status_users == 1)[0]\n",
        "            n = len(subscribed)\n",
        "            if n > 0:\n",
        "                self.status_users[subscribed[self.rng.choice(n)]] = new_status\n",
        "        else:\n",
        "            assert self.status_users[user_idx] == 1, \"trying to remove a user which is not subscribed\"\n",
        "            self.status_users[user_idx] = new_status\n",
        "        self.n_users -= 1\n",
        "\n",
        "    def update_history(self, user_idx, movie_idx, reward, best_reward, n_users, optimal_users, context):\n",
        "        self.history.append((user_idx, movie_idx, reward, best_reward, n_users, optimal_users, context))\n",
        "        self.seen_matrix[user_idx][movie_idx] = 1\n",
        "\n",
        "    def update_probability(self, user_idx, reward):\n",
        "        self.quit_probabilities[user_idx] += self.get_update_prob_coeff(reward)\n",
        "        self.quit_probabilities[user_idx] = max(0, min(1, self.quit_probabilities[user_idx]))\n",
        "    \n",
        "    def update_quit(self, user_idx):\n",
        "      \"\"\"updates the available users list by generating either 0 (not quit) or (1 quit) using the probability that the user will quit\"\"\"\n",
        "      will_quit = self.rng.binomial(1, self.quit_probabilities[user_idx])\n",
        "      if will_quit:\n",
        "        self.remove_user(user_idx)"
      ],
      "execution_count": 0,
      "outputs": []
    },
    {
      "cell_type": "markdown",
      "metadata": {
        "id": "5kyXsxHSDqZe",
        "colab_type": "text"
      },
      "source": [
        "## Agents"
      ]
    },
    {
      "cell_type": "code",
      "metadata": {
        "id": "VwDh2XnFDqZg",
        "colab_type": "code",
        "colab": {}
      },
      "source": [
        "class RandomAgent:\n",
        "    \n",
        "    def __init__(self, seed=None):\n",
        "        self.rng = np.random.default_rng(seed)\n",
        "        self.agent_history = []\n",
        "    \n",
        "    def recommend(self, user_idx, context):\n",
        "        return context[self.rng.choice(len(context))]\n",
        "\n",
        "    def update_history(self, user_idx, movie_idx, reward, context):\n",
        "        self.agent_history.append([user_idx, movie_idx, reward, context])"
      ],
      "execution_count": 0,
      "outputs": []
    },
    {
      "cell_type": "code",
      "metadata": {
        "id": "sjRz8eljTlaN",
        "colab_type": "code",
        "colab": {}
      },
      "source": [
        "class EpsilonGreedyAgent:\n",
        "    \"\"\" Epsilon greedy agent. \"\"\"\n",
        "\n",
        "    def __init__(self, \n",
        "                 movies_with_noise,\n",
        "                 at_start_exploration_iters=10, \n",
        "                 lr=.1, \n",
        "                 epsilon=0,\n",
        "                 seed=None):\n",
        "        self._movies_with_noise = movies_with_noise\n",
        "        self.at_start_exploration_iters = at_start_exploration_iters\n",
        "        self._epsilon = epsilon\n",
        "        self._rng = np.random.default_rng(seed)\n",
        "        self.agent_history = []\n",
        "        \n",
        "    def recommend(self, user_idx, context):\n",
        "        if(len(self.agent_history) < self.at_start_exploration_iters) or self._rng.random() < self._epsilon: # exploration at start and building some history\n",
        "          recommended_movie = context[self._rng.choice(len(context))]\n",
        "        else: # maxing based on similarity with the already known movies\n",
        "        # checking if the user already has noted a movie:\n",
        "            already_rated_users = [h[0] for h in self.agent_history]\n",
        "            if user_idx in already_rated_users: # if the user already exists\n",
        "                user_movies = [h for h in self.agent_history if h[0] == user_idx]\n",
        "                self._rng.shuffle(user_movies)\n",
        "                best_reward = np.argmax([x[2] for x in user_movies])\n",
        "                best_movie_idx = user_movies[best_reward][1]\n",
        "                reward_pred = self.similarities(best_movie_idx, context)\n",
        "                recommended_movie = context[np.argmax(reward_pred)]  # the action is the index of the chosen movie\n",
        "            else: # if we don't know anything yet about the user we select randomly\n",
        "                recommended_movie = context[self._rng.choice(len(context))]\n",
        "        return recommended_movie\n",
        "\n",
        "    def similarities(self, best_movie_idx, context):\n",
        "      return [self.similarity(self._movies_with_noise[best_movie_idx], self._movies_with_noise[movie_idx]) for movie_idx in context]\n",
        "\n",
        "    def similarity(self, item1, item2):\n",
        "      return np.dot(item1, item2) / (np.linalg.norm(item1) * np.linalg.norm(item2))\n",
        "    \n",
        "    def update_history(self, user_idx, movie_idx, reward, context):\n",
        "        \"\"\" updating history for the future decisions of the agent \"\"\"\n",
        "        self.agent_history.append([user_idx, movie_idx, reward, context])"
      ],
      "execution_count": 0,
      "outputs": []
    },
    {
      "cell_type": "code",
      "metadata": {
        "id": "omVJqRKAUt93",
        "colab_type": "code",
        "colab": {}
      },
      "source": [
        "def identity_loss(y_true, y_pred):\n",
        "    \"\"\"Ignore y_true and return the mean of y_pred    \n",
        "    This is a hack to work-around the design of the Keras API that is\n",
        "    not really suited to train networks with a triplet loss by default.\n",
        "    \"\"\"\n",
        "    return tf.reduce_mean(y_pred)\n",
        "\n",
        "class MarginLoss(layers.Layer):\n",
        "\n",
        "    def __init__(self, margin=1.):\n",
        "        super().__init__()\n",
        "        self.margin = margin\n",
        "        \n",
        "    def call(self, inputs):\n",
        "        pos_pair_similarity = inputs[0]\n",
        "        neg_pair_similarity = inputs[1]\n",
        "        \n",
        "        diff = neg_pair_similarity - pos_pair_similarity\n",
        "        return tf.maximum(diff + self.margin, 0.)\n",
        "    \n",
        "class TripletModel(Model):\n",
        "    def __init__(self, n_users, n_items, latent_dim=32,\n",
        "                 l2_reg=None, margin=1.):\n",
        "        super().__init__(name=\"TripletModel\")\n",
        "        \n",
        "        self.margin = margin\n",
        "        \n",
        "        l2_reg = None if l2_reg == 0 else l2(l2_reg)\n",
        "\n",
        "        self.user_layer = Embedding(n_users, latent_dim,\n",
        "                                    input_length=1,\n",
        "                                    input_shape=(1,),\n",
        "                                    name='user_embedding',\n",
        "                                    embeddings_regularizer=l2_reg)\n",
        "    \n",
        "        # The following embedding parameters will be shared to\n",
        "        # encode both the positive and negative items.\n",
        "        self.item_layer = Embedding(n_items, latent_dim,\n",
        "                                    input_length=1,\n",
        "                                    name=\"item_embedding\",\n",
        "                                    embeddings_regularizer=l2_reg)\n",
        "        \n",
        "        # The 2 following layers are without parameters, and can\n",
        "        # therefore be used for both positive and negative items.\n",
        "        self.flatten = Flatten()\n",
        "        self.dot = Dot(axes=1, normalize=True)\n",
        "        self.margin_loss = MarginLoss(margin)\n",
        "        \n",
        "    def call(self, inputs, training=False):\n",
        "        user_input = inputs[0]\n",
        "        pos_item_input = inputs[1]\n",
        "        neg_item_input = inputs[2]\n",
        "        \n",
        "        user_embedding = self.user_layer(user_input)\n",
        "        user_embedding = self.flatten(user_embedding)\n",
        "        \n",
        "        pos_item_embedding = self.item_layer(pos_item_input)\n",
        "        pos_item_embedding = self.flatten(pos_item_embedding)\n",
        "        \n",
        "        neg_item_embedding = self.item_layer(neg_item_input)\n",
        "        neg_item_embedding = self.flatten(neg_item_embedding)\n",
        "        \n",
        "        # Similarity computation between embeddings\n",
        "        pos_similarity = self.dot([user_embedding, pos_item_embedding])\n",
        "        neg_similarity = self.dot([user_embedding, neg_item_embedding])\n",
        "                \n",
        "        return self.margin_loss([pos_similarity, neg_similarity])\n",
        "    "
      ],
      "execution_count": 0,
      "outputs": []
    },
    {
      "cell_type": "code",
      "metadata": {
        "id": "VGfz2qJ6rfnz",
        "colab_type": "code",
        "colab": {}
      },
      "source": [
        "class DLAgent():\n",
        "    def __init__(self, model, update_freq=20, train_epochs=10):\n",
        "        self.x_train = []\n",
        "        self.model = model\n",
        "        self.update_freq = update_freq\n",
        "\n",
        "        self.train_epochs = train_epochs\n",
        "        self.current_triplet = None\n",
        "        self.time = 0\n",
        "\n",
        "    def recommend(self, user_idx, context):\n",
        "        # since the model takes as input a triplet we will generate the triplets from the context(available movies indices)\n",
        "        triplets = [[user_idx, pos_movie, neg_movie] for pos_movie in context for neg_movie in context if neg_movie != pos_movie]\n",
        "        triplets = np.asarray(triplets).T.tolist()\n",
        "        triplets[0] = np.asarray(triplets[0])\n",
        "        triplets[1] = np.asarray(triplets[1])\n",
        "        triplets[2] = np.asarray(triplets[2])\n",
        "        pred_rewards = self.model.predict(triplets)\n",
        "        index = np.argmax(pred_rewards)\n",
        "        self.current_triplet = [triplets[0][index], triplets[1][index], triplets[2][index]]\n",
        "        return triplets[1][index]\n",
        "\n",
        "    def update_history(self, user_idx, movie_idx, reward, context):\n",
        "        \"\"\" updating history for the future decisions of the agent \"\"\"\n",
        "        self.time += 1\n",
        "        self.x_train.append(self.current_triplet)\n",
        "        if self.time % self.update_freq == 0:\n",
        "            x_train = np.asarray(self.x_train).T.tolist()\n",
        "            x_train[0] = np.asarray(x_train[0])\n",
        "            x_train[1] = np.asarray(x_train[1])\n",
        "            x_train[2] = np.asarray(x_train[2])\n",
        "            self.model.fit(x_train, np.zeros_like(x_train[0]), shuffle=True,\n",
        "                           epochs=self.train_epochs, verbose=False)"
      ],
      "execution_count": 0,
      "outputs": []
    },
    {
      "cell_type": "code",
      "metadata": {
        "id": "yiVkTB9ylo6d",
        "colab_type": "code",
        "colab": {}
      },
      "source": [
        "def get_training_data(env, train_horizon=2000, should_reset=True, seed=None):\n",
        "    \"\"\"generates data to trail the model of the DL agent \"\"\"\n",
        "    if should_reset:\n",
        "        env.reset(seed=seed)\n",
        "    x_train = []\n",
        "    y_train = []\n",
        "    for i in range(train_horizon):\n",
        "        user_idx, context = env.get_next_step(should_update=False)\n",
        "        if user_idx == -2:\n",
        "            break\n",
        "        elif user_idx != -1:\n",
        "            movie_idx = env.get_best_movie(user_idx, context)\n",
        "            reward = env.get_reward(user_idx, movie_idx, context, should_update=False)\n",
        "            for neg_movie in context:\n",
        "                if neg_movie != movie_idx:\n",
        "                    x_train.append([user_idx, movie_idx, neg_movie])\n",
        "                    y_train.append(reward)\n",
        "    x_train = np.asarray(x_train).T.tolist()\n",
        "    x_train[0] = np.asarray(x_train[0])\n",
        "    x_train[1] = np.asarray(x_train[1])\n",
        "    x_train[2] = np.asarray(x_train[2])\n",
        "    return x_train, np.asarray(y_train)"
      ],
      "execution_count": 0,
      "outputs": []
    },
    {
      "cell_type": "code",
      "metadata": {
        "id": "NSgFbyICDqZ1",
        "colab_type": "code",
        "colab": {}
      },
      "source": [
        "env = Environment(seed=42)"
      ],
      "execution_count": 0,
      "outputs": []
    },
    {
      "cell_type": "code",
      "metadata": {
        "id": "gpbUS4rna2Ia",
        "colab_type": "code",
        "colab": {}
      },
      "source": [
        "def run_exp(env, agent_type=\"random\", horizon=1000, should_reset=True, seed=None, \n",
        "            batch_size=64, epochs=10, update_freq=100):\n",
        "    if should_reset:\n",
        "        env.reset(seed=seed)\n",
        "    if agent_type == \"Random\":\n",
        "        agent = RandomAgent(seed=seed)\n",
        "    elif agent_type == \"EG\":\n",
        "        agent = EpsilonGreedyAgent(env.movies_with_noise, seed=seed)\n",
        "    elif agent_type == \"DL\":\n",
        "        triplet_model = TripletModel(n_users=MAX_USERS, n_items=MAX_MOVIES,\n",
        "                                     latent_dim=8, l2_reg=1e-6)\n",
        "        triplet_model.compile(loss=identity_loss, optimizer=\"adam\")\n",
        "        x_train, y_train = get_training_data(env, seed=seed)\n",
        "        triplet_model.fit(x=x_train, y=y_train, shuffle=True,\n",
        "                        batch_size=batch_size, epochs=epochs)\n",
        "        agent = DLAgent(model=triplet_model, update_freq=update_freq)\n",
        "    else:\n",
        "        raise ValueError(\"agent_type unknown\")\n",
        "    for i in range(horizon):\n",
        "        user_idx, context = env.get_next_step()\n",
        "        if user_idx == -2:\n",
        "            break\n",
        "        elif user_idx != -1:\n",
        "            movie_idx = agent.recommend(user_idx, context)\n",
        "            reward = env.get_reward(user_idx, movie_idx, context)\n",
        "            agent.update_history(user_idx, movie_idx, reward, context)\n",
        "    n_users = [h[4] for h in env.history[-horizon:]]\n",
        "    optimal_users = [h[5] for h in env.history[-horizon:]]\n",
        "    cum_regrets = [h[5] - h[4] for h in env.history[-horizon:]]\n",
        "    return cum_regrets, n_users, optimal_users, env.history"
      ],
      "execution_count": 0,
      "outputs": []
    },
    {
      "cell_type": "code",
      "metadata": {
        "id": "sAq_36bnQ0m8",
        "colab_type": "code",
        "colab": {}
      },
      "source": [
        "def run_multiple_exp(n_tests, env, agent_type=\"random\", horizon=1000, should_reset=True, seed=None, \n",
        "                     batch_size=64, epochs=10, update_freq=20):\n",
        "    cum_regrets_array = np.zeros((n_tests, horizon))\n",
        "    n_users_array = np.zeros((n_tests, horizon))\n",
        "    optimal_users_array = np.zeros((n_tests, horizon))\n",
        "    for i in range(n_tests):\n",
        "        print(\"Exp {}\".format(i))\n",
        "        cum_regrets_array[i], n_users_array[i], optimal_users_array[i], _ = \\\n",
        "            run_exp(env, agent_type, horizon, should_reset, seed+i)  # seed incremented at each run\n",
        "    return cum_regrets_array, n_users_array, optimal_users_array,"
      ],
      "execution_count": 0,
      "outputs": []
    },
    {
      "cell_type": "code",
      "metadata": {
        "id": "pvvNb16mgiYs",
        "colab_type": "code",
        "colab": {
          "base_uri": "https://localhost:8080/",
          "height": 191
        },
        "outputId": "f2af7e45-4efc-432a-c6c2-9fee83398bd0"
      },
      "source": [
        "cum_regretsRandom, n_usersRandom, optimal_usersRandom = run_multiple_exp(10, env, agent_type=\"Random\", horizon=1000, seed=42)"
      ],
      "execution_count": 72,
      "outputs": [
        {
          "output_type": "stream",
          "text": [
            "Exp 0\n",
            "Exp 1\n",
            "Exp 2\n",
            "Exp 3\n",
            "Exp 4\n",
            "Exp 5\n",
            "Exp 6\n",
            "Exp 7\n",
            "Exp 8\n",
            "Exp 9\n"
          ],
          "name": "stdout"
        }
      ]
    },
    {
      "cell_type": "code",
      "metadata": {
        "id": "hx3oaOvxSFEo",
        "colab_type": "code",
        "colab": {
          "base_uri": "https://localhost:8080/",
          "height": 191
        },
        "outputId": "c5643bf8-e022-45f8-bf39-5bb5699f261d"
      },
      "source": [
        "cum_regretsEG, n_usersEG, optimal_usersEG = run_multiple_exp(10, env, agent_type=\"EG\", horizon=1000, seed=42)"
      ],
      "execution_count": 73,
      "outputs": [
        {
          "output_type": "stream",
          "text": [
            "Exp 0\n",
            "Exp 1\n",
            "Exp 2\n",
            "Exp 3\n",
            "Exp 4\n",
            "Exp 5\n",
            "Exp 6\n",
            "Exp 7\n",
            "Exp 8\n",
            "Exp 9\n"
          ],
          "name": "stdout"
        }
      ]
    },
    {
      "cell_type": "code",
      "metadata": {
        "id": "6omBHooP3_f6",
        "colab_type": "code",
        "colab": {
          "base_uri": "https://localhost:8080/",
          "height": 1000
        },
        "outputId": "60ce8859-4cda-4df0-bced-ced2340018d8"
      },
      "source": [
        "cum_regretsDL, n_usersDL, optimal_usersDL = run_multiple_exp(10, env, agent_type=\"DL\", horizon=1000, seed=42)"
      ],
      "execution_count": 84,
      "outputs": [
        {
          "output_type": "stream",
          "text": [
            "Exp 0\n",
            "Train on 18000 samples\n",
            "Epoch 1/10\n"
          ],
          "name": "stdout"
        },
        {
          "output_type": "stream",
          "text": [
            "/tensorflow-2.1.0/python3.6/tensorflow_core/python/framework/indexed_slices.py:433: UserWarning: Converting sparse IndexedSlices to a dense Tensor of unknown shape. This may consume a large amount of memory.\n",
            "  \"Converting sparse IndexedSlices to a dense Tensor of unknown shape. \"\n"
          ],
          "name": "stderr"
        },
        {
          "output_type": "stream",
          "text": [
            "\r   64/18000 [..............................] - ETA: 2:44 - loss: 1.0237"
          ],
          "name": "stdout"
        },
        {
          "output_type": "stream",
          "text": [
            "/tensorflow-2.1.0/python3.6/tensorflow_core/python/framework/indexed_slices.py:433: UserWarning: Converting sparse IndexedSlices to a dense Tensor of unknown shape. This may consume a large amount of memory.\n",
            "  \"Converting sparse IndexedSlices to a dense Tensor of unknown shape. \"\n"
          ],
          "name": "stderr"
        },
        {
          "output_type": "stream",
          "text": [
            "18000/18000 [==============================] - 1s 68us/sample - loss: 0.6973\n",
            "Epoch 2/10\n",
            "18000/18000 [==============================] - 1s 36us/sample - loss: 0.3399\n",
            "Epoch 3/10\n",
            "18000/18000 [==============================] - 1s 39us/sample - loss: 0.2824\n",
            "Epoch 4/10\n",
            "18000/18000 [==============================] - 1s 41us/sample - loss: 0.2654\n",
            "Epoch 5/10\n",
            "18000/18000 [==============================] - 1s 39us/sample - loss: 0.2567\n",
            "Epoch 6/10\n",
            "18000/18000 [==============================] - 1s 37us/sample - loss: 0.2517\n",
            "Epoch 7/10\n",
            "18000/18000 [==============================] - 1s 39us/sample - loss: 0.2480\n",
            "Epoch 8/10\n",
            "18000/18000 [==============================] - 1s 37us/sample - loss: 0.2454\n",
            "Epoch 9/10\n",
            "18000/18000 [==============================] - 1s 37us/sample - loss: 0.2428\n",
            "Epoch 10/10\n",
            "18000/18000 [==============================] - 1s 41us/sample - loss: 0.2416\n"
          ],
          "name": "stdout"
        },
        {
          "output_type": "stream",
          "text": [
            "/tensorflow-2.1.0/python3.6/tensorflow_core/python/framework/indexed_slices.py:433: UserWarning: Converting sparse IndexedSlices to a dense Tensor of unknown shape. This may consume a large amount of memory.\n",
            "  \"Converting sparse IndexedSlices to a dense Tensor of unknown shape. \"\n"
          ],
          "name": "stderr"
        },
        {
          "output_type": "stream",
          "text": [
            "Exp 1\n",
            "Train on 18000 samples\n",
            "Epoch 1/10\n"
          ],
          "name": "stdout"
        },
        {
          "output_type": "stream",
          "text": [
            "/tensorflow-2.1.0/python3.6/tensorflow_core/python/framework/indexed_slices.py:433: UserWarning: Converting sparse IndexedSlices to a dense Tensor of unknown shape. This may consume a large amount of memory.\n",
            "  \"Converting sparse IndexedSlices to a dense Tensor of unknown shape. \"\n"
          ],
          "name": "stderr"
        },
        {
          "output_type": "stream",
          "text": [
            "\r   64/18000 [..............................] - ETA: 2:43 - loss: 1.0269"
          ],
          "name": "stdout"
        },
        {
          "output_type": "stream",
          "text": [
            "/tensorflow-2.1.0/python3.6/tensorflow_core/python/framework/indexed_slices.py:433: UserWarning: Converting sparse IndexedSlices to a dense Tensor of unknown shape. This may consume a large amount of memory.\n",
            "  \"Converting sparse IndexedSlices to a dense Tensor of unknown shape. \"\n"
          ],
          "name": "stderr"
        },
        {
          "output_type": "stream",
          "text": [
            "18000/18000 [==============================] - 1s 71us/sample - loss: 0.6906\n",
            "Epoch 2/10\n",
            "18000/18000 [==============================] - 1s 42us/sample - loss: 0.3373\n",
            "Epoch 3/10\n",
            "18000/18000 [==============================] - 1s 40us/sample - loss: 0.2794\n",
            "Epoch 4/10\n",
            "18000/18000 [==============================] - 1s 35us/sample - loss: 0.2629\n",
            "Epoch 5/10\n",
            "18000/18000 [==============================] - 1s 39us/sample - loss: 0.2558\n",
            "Epoch 6/10\n",
            "18000/18000 [==============================] - 1s 39us/sample - loss: 0.2515\n",
            "Epoch 7/10\n",
            "18000/18000 [==============================] - 1s 40us/sample - loss: 0.2488\n",
            "Epoch 8/10\n",
            "18000/18000 [==============================] - 1s 38us/sample - loss: 0.2466\n",
            "Epoch 9/10\n",
            "18000/18000 [==============================] - 1s 38us/sample - loss: 0.2449\n",
            "Epoch 10/10\n",
            "18000/18000 [==============================] - 1s 38us/sample - loss: 0.2436\n"
          ],
          "name": "stdout"
        },
        {
          "output_type": "stream",
          "text": [
            "/tensorflow-2.1.0/python3.6/tensorflow_core/python/framework/indexed_slices.py:433: UserWarning: Converting sparse IndexedSlices to a dense Tensor of unknown shape. This may consume a large amount of memory.\n",
            "  \"Converting sparse IndexedSlices to a dense Tensor of unknown shape. \"\n"
          ],
          "name": "stderr"
        },
        {
          "output_type": "stream",
          "text": [
            "Exp 2\n",
            "Train on 18000 samples\n",
            "Epoch 1/10\n"
          ],
          "name": "stdout"
        },
        {
          "output_type": "stream",
          "text": [
            "/tensorflow-2.1.0/python3.6/tensorflow_core/python/framework/indexed_slices.py:433: UserWarning: Converting sparse IndexedSlices to a dense Tensor of unknown shape. This may consume a large amount of memory.\n",
            "  \"Converting sparse IndexedSlices to a dense Tensor of unknown shape. \"\n"
          ],
          "name": "stderr"
        },
        {
          "output_type": "stream",
          "text": [
            "\r   64/18000 [..............................] - ETA: 2:47 - loss: 1.0301"
          ],
          "name": "stdout"
        },
        {
          "output_type": "stream",
          "text": [
            "/tensorflow-2.1.0/python3.6/tensorflow_core/python/framework/indexed_slices.py:433: UserWarning: Converting sparse IndexedSlices to a dense Tensor of unknown shape. This may consume a large amount of memory.\n",
            "  \"Converting sparse IndexedSlices to a dense Tensor of unknown shape. \"\n"
          ],
          "name": "stderr"
        },
        {
          "output_type": "stream",
          "text": [
            "18000/18000 [==============================] - 1s 69us/sample - loss: 0.7110\n",
            "Epoch 2/10\n",
            "18000/18000 [==============================] - 1s 39us/sample - loss: 0.3604\n",
            "Epoch 3/10\n",
            "18000/18000 [==============================] - 1s 38us/sample - loss: 0.3026\n",
            "Epoch 4/10\n",
            "18000/18000 [==============================] - 1s 39us/sample - loss: 0.2877\n",
            "Epoch 5/10\n",
            "18000/18000 [==============================] - 1s 39us/sample - loss: 0.2819\n",
            "Epoch 6/10\n",
            "18000/18000 [==============================] - 1s 38us/sample - loss: 0.2778\n",
            "Epoch 7/10\n",
            "18000/18000 [==============================] - 1s 38us/sample - loss: 0.2745\n",
            "Epoch 8/10\n",
            "18000/18000 [==============================] - 1s 39us/sample - loss: 0.2719\n",
            "Epoch 9/10\n",
            "18000/18000 [==============================] - 1s 37us/sample - loss: 0.2693\n",
            "Epoch 10/10\n",
            "18000/18000 [==============================] - 1s 38us/sample - loss: 0.2673\n"
          ],
          "name": "stdout"
        },
        {
          "output_type": "stream",
          "text": [
            "/tensorflow-2.1.0/python3.6/tensorflow_core/python/framework/indexed_slices.py:433: UserWarning: Converting sparse IndexedSlices to a dense Tensor of unknown shape. This may consume a large amount of memory.\n",
            "  \"Converting sparse IndexedSlices to a dense Tensor of unknown shape. \"\n"
          ],
          "name": "stderr"
        },
        {
          "output_type": "stream",
          "text": [
            "Exp 3\n",
            "Train on 18000 samples\n",
            "Epoch 1/10\n"
          ],
          "name": "stdout"
        },
        {
          "output_type": "stream",
          "text": [
            "/tensorflow-2.1.0/python3.6/tensorflow_core/python/framework/indexed_slices.py:433: UserWarning: Converting sparse IndexedSlices to a dense Tensor of unknown shape. This may consume a large amount of memory.\n",
            "  \"Converting sparse IndexedSlices to a dense Tensor of unknown shape. \"\n"
          ],
          "name": "stderr"
        },
        {
          "output_type": "stream",
          "text": [
            "\r   64/18000 [..............................] - ETA: 2:50 - loss: 1.0383"
          ],
          "name": "stdout"
        },
        {
          "output_type": "stream",
          "text": [
            "/tensorflow-2.1.0/python3.6/tensorflow_core/python/framework/indexed_slices.py:433: UserWarning: Converting sparse IndexedSlices to a dense Tensor of unknown shape. This may consume a large amount of memory.\n",
            "  \"Converting sparse IndexedSlices to a dense Tensor of unknown shape. \"\n"
          ],
          "name": "stderr"
        },
        {
          "output_type": "stream",
          "text": [
            "18000/18000 [==============================] - 1s 72us/sample - loss: 0.6970\n",
            "Epoch 2/10\n",
            "18000/18000 [==============================] - 1s 36us/sample - loss: 0.3471\n",
            "Epoch 3/10\n",
            "18000/18000 [==============================] - 1s 38us/sample - loss: 0.2844\n",
            "Epoch 4/10\n",
            "18000/18000 [==============================] - 1s 38us/sample - loss: 0.2673\n",
            "Epoch 5/10\n",
            "18000/18000 [==============================] - 1s 39us/sample - loss: 0.2602\n",
            "Epoch 6/10\n",
            "18000/18000 [==============================] - 1s 37us/sample - loss: 0.2557\n",
            "Epoch 7/10\n",
            "18000/18000 [==============================] - 1s 37us/sample - loss: 0.2527\n",
            "Epoch 8/10\n",
            "18000/18000 [==============================] - 1s 36us/sample - loss: 0.2509\n",
            "Epoch 9/10\n",
            "18000/18000 [==============================] - 1s 36us/sample - loss: 0.2502\n",
            "Epoch 10/10\n",
            "18000/18000 [==============================] - 1s 43us/sample - loss: 0.2485\n"
          ],
          "name": "stdout"
        },
        {
          "output_type": "stream",
          "text": [
            "/tensorflow-2.1.0/python3.6/tensorflow_core/python/framework/indexed_slices.py:433: UserWarning: Converting sparse IndexedSlices to a dense Tensor of unknown shape. This may consume a large amount of memory.\n",
            "  \"Converting sparse IndexedSlices to a dense Tensor of unknown shape. \"\n"
          ],
          "name": "stderr"
        },
        {
          "output_type": "stream",
          "text": [
            "Exp 4\n",
            "Train on 18000 samples\n",
            "Epoch 1/10\n"
          ],
          "name": "stdout"
        },
        {
          "output_type": "stream",
          "text": [
            "/tensorflow-2.1.0/python3.6/tensorflow_core/python/framework/indexed_slices.py:433: UserWarning: Converting sparse IndexedSlices to a dense Tensor of unknown shape. This may consume a large amount of memory.\n",
            "  \"Converting sparse IndexedSlices to a dense Tensor of unknown shape. \"\n"
          ],
          "name": "stderr"
        },
        {
          "output_type": "stream",
          "text": [
            "\r   64/18000 [..............................] - ETA: 2:53 - loss: 0.9290"
          ],
          "name": "stdout"
        },
        {
          "output_type": "stream",
          "text": [
            "/tensorflow-2.1.0/python3.6/tensorflow_core/python/framework/indexed_slices.py:433: UserWarning: Converting sparse IndexedSlices to a dense Tensor of unknown shape. This may consume a large amount of memory.\n",
            "  \"Converting sparse IndexedSlices to a dense Tensor of unknown shape. \"\n"
          ],
          "name": "stderr"
        },
        {
          "output_type": "stream",
          "text": [
            "18000/18000 [==============================] - 1s 71us/sample - loss: 0.6718\n",
            "Epoch 2/10\n",
            "18000/18000 [==============================] - 1s 37us/sample - loss: 0.3164\n",
            "Epoch 3/10\n",
            "18000/18000 [==============================] - 1s 37us/sample - loss: 0.2618\n",
            "Epoch 4/10\n",
            "18000/18000 [==============================] - 1s 36us/sample - loss: 0.2470\n",
            "Epoch 5/10\n",
            "18000/18000 [==============================] - 1s 36us/sample - loss: 0.2404\n",
            "Epoch 6/10\n",
            "18000/18000 [==============================] - 1s 37us/sample - loss: 0.2359\n",
            "Epoch 7/10\n",
            "18000/18000 [==============================] - 1s 37us/sample - loss: 0.2331\n",
            "Epoch 8/10\n",
            "18000/18000 [==============================] - 1s 41us/sample - loss: 0.2319\n",
            "Epoch 9/10\n",
            "18000/18000 [==============================] - 1s 40us/sample - loss: 0.2297\n",
            "Epoch 10/10\n",
            "18000/18000 [==============================] - 1s 39us/sample - loss: 0.2286\n"
          ],
          "name": "stdout"
        },
        {
          "output_type": "stream",
          "text": [
            "/tensorflow-2.1.0/python3.6/tensorflow_core/python/framework/indexed_slices.py:433: UserWarning: Converting sparse IndexedSlices to a dense Tensor of unknown shape. This may consume a large amount of memory.\n",
            "  \"Converting sparse IndexedSlices to a dense Tensor of unknown shape. \"\n"
          ],
          "name": "stderr"
        },
        {
          "output_type": "stream",
          "text": [
            "Exp 5\n",
            "Train on 18000 samples\n",
            "Epoch 1/10\n"
          ],
          "name": "stdout"
        },
        {
          "output_type": "stream",
          "text": [
            "/tensorflow-2.1.0/python3.6/tensorflow_core/python/framework/indexed_slices.py:433: UserWarning: Converting sparse IndexedSlices to a dense Tensor of unknown shape. This may consume a large amount of memory.\n",
            "  \"Converting sparse IndexedSlices to a dense Tensor of unknown shape. \"\n"
          ],
          "name": "stderr"
        },
        {
          "output_type": "stream",
          "text": [
            "\r   64/18000 [..............................] - ETA: 2:55 - loss: 1.1580"
          ],
          "name": "stdout"
        },
        {
          "output_type": "stream",
          "text": [
            "/tensorflow-2.1.0/python3.6/tensorflow_core/python/framework/indexed_slices.py:433: UserWarning: Converting sparse IndexedSlices to a dense Tensor of unknown shape. This may consume a large amount of memory.\n",
            "  \"Converting sparse IndexedSlices to a dense Tensor of unknown shape. \"\n"
          ],
          "name": "stderr"
        },
        {
          "output_type": "stream",
          "text": [
            "18000/18000 [==============================] - 1s 74us/sample - loss: 0.7273\n",
            "Epoch 2/10\n",
            "18000/18000 [==============================] - 1s 42us/sample - loss: 0.3780\n",
            "Epoch 3/10\n",
            "18000/18000 [==============================] - 1s 40us/sample - loss: 0.2964\n",
            "Epoch 4/10\n",
            "18000/18000 [==============================] - 1s 41us/sample - loss: 0.2716\n",
            "Epoch 5/10\n",
            "18000/18000 [==============================] - 1s 41us/sample - loss: 0.2623\n",
            "Epoch 6/10\n",
            "18000/18000 [==============================] - 1s 45us/sample - loss: 0.2572\n",
            "Epoch 7/10\n",
            "18000/18000 [==============================] - 1s 45us/sample - loss: 0.2545\n",
            "Epoch 8/10\n",
            "18000/18000 [==============================] - 1s 42us/sample - loss: 0.2522\n",
            "Epoch 9/10\n",
            "18000/18000 [==============================] - 1s 40us/sample - loss: 0.2508\n",
            "Epoch 10/10\n",
            "18000/18000 [==============================] - 1s 39us/sample - loss: 0.2494\n"
          ],
          "name": "stdout"
        },
        {
          "output_type": "stream",
          "text": [
            "/tensorflow-2.1.0/python3.6/tensorflow_core/python/framework/indexed_slices.py:433: UserWarning: Converting sparse IndexedSlices to a dense Tensor of unknown shape. This may consume a large amount of memory.\n",
            "  \"Converting sparse IndexedSlices to a dense Tensor of unknown shape. \"\n"
          ],
          "name": "stderr"
        },
        {
          "output_type": "stream",
          "text": [
            "Exp 6\n",
            "Train on 18000 samples\n",
            "Epoch 1/10\n"
          ],
          "name": "stdout"
        },
        {
          "output_type": "stream",
          "text": [
            "/tensorflow-2.1.0/python3.6/tensorflow_core/python/framework/indexed_slices.py:433: UserWarning: Converting sparse IndexedSlices to a dense Tensor of unknown shape. This may consume a large amount of memory.\n",
            "  \"Converting sparse IndexedSlices to a dense Tensor of unknown shape. \"\n"
          ],
          "name": "stderr"
        },
        {
          "output_type": "stream",
          "text": [
            "\r   64/18000 [..............................] - ETA: 2:49 - loss: 0.9926"
          ],
          "name": "stdout"
        },
        {
          "output_type": "stream",
          "text": [
            "/tensorflow-2.1.0/python3.6/tensorflow_core/python/framework/indexed_slices.py:433: UserWarning: Converting sparse IndexedSlices to a dense Tensor of unknown shape. This may consume a large amount of memory.\n",
            "  \"Converting sparse IndexedSlices to a dense Tensor of unknown shape. \"\n"
          ],
          "name": "stderr"
        },
        {
          "output_type": "stream",
          "text": [
            "18000/18000 [==============================] - 1s 69us/sample - loss: 0.7051\n",
            "Epoch 2/10\n",
            "18000/18000 [==============================] - 1s 36us/sample - loss: 0.3651\n",
            "Epoch 3/10\n",
            "18000/18000 [==============================] - 1s 38us/sample - loss: 0.2909\n",
            "Epoch 4/10\n",
            "18000/18000 [==============================] - 1s 40us/sample - loss: 0.2710\n",
            "Epoch 5/10\n",
            "18000/18000 [==============================] - 1s 41us/sample - loss: 0.2640\n",
            "Epoch 6/10\n",
            "18000/18000 [==============================] - 1s 39us/sample - loss: 0.2598\n",
            "Epoch 7/10\n",
            "18000/18000 [==============================] - 1s 36us/sample - loss: 0.2574\n",
            "Epoch 8/10\n",
            "18000/18000 [==============================] - 1s 37us/sample - loss: 0.2555\n",
            "Epoch 9/10\n",
            "18000/18000 [==============================] - 1s 36us/sample - loss: 0.2537\n",
            "Epoch 10/10\n",
            "18000/18000 [==============================] - 1s 36us/sample - loss: 0.2533\n"
          ],
          "name": "stdout"
        },
        {
          "output_type": "stream",
          "text": [
            "/tensorflow-2.1.0/python3.6/tensorflow_core/python/framework/indexed_slices.py:433: UserWarning: Converting sparse IndexedSlices to a dense Tensor of unknown shape. This may consume a large amount of memory.\n",
            "  \"Converting sparse IndexedSlices to a dense Tensor of unknown shape. \"\n"
          ],
          "name": "stderr"
        },
        {
          "output_type": "stream",
          "text": [
            "Exp 7\n",
            "Train on 18000 samples\n",
            "Epoch 1/10\n"
          ],
          "name": "stdout"
        },
        {
          "output_type": "stream",
          "text": [
            "/tensorflow-2.1.0/python3.6/tensorflow_core/python/framework/indexed_slices.py:433: UserWarning: Converting sparse IndexedSlices to a dense Tensor of unknown shape. This may consume a large amount of memory.\n",
            "  \"Converting sparse IndexedSlices to a dense Tensor of unknown shape. \"\n"
          ],
          "name": "stderr"
        },
        {
          "output_type": "stream",
          "text": [
            "\r   64/18000 [..............................] - ETA: 2:56 - loss: 0.9093"
          ],
          "name": "stdout"
        },
        {
          "output_type": "stream",
          "text": [
            "/tensorflow-2.1.0/python3.6/tensorflow_core/python/framework/indexed_slices.py:433: UserWarning: Converting sparse IndexedSlices to a dense Tensor of unknown shape. This may consume a large amount of memory.\n",
            "  \"Converting sparse IndexedSlices to a dense Tensor of unknown shape. \"\n"
          ],
          "name": "stderr"
        },
        {
          "output_type": "stream",
          "text": [
            "18000/18000 [==============================] - 1s 79us/sample - loss: 0.6576\n",
            "Epoch 2/10\n",
            "18000/18000 [==============================] - 1s 46us/sample - loss: 0.3275\n",
            "Epoch 3/10\n",
            "18000/18000 [==============================] - 1s 41us/sample - loss: 0.2764\n",
            "Epoch 4/10\n",
            "18000/18000 [==============================] - 1s 41us/sample - loss: 0.2622\n",
            "Epoch 5/10\n",
            "18000/18000 [==============================] - 1s 37us/sample - loss: 0.2558\n",
            "Epoch 6/10\n",
            "18000/18000 [==============================] - 1s 37us/sample - loss: 0.2523\n",
            "Epoch 7/10\n",
            "18000/18000 [==============================] - 1s 38us/sample - loss: 0.2493\n",
            "Epoch 8/10\n",
            "18000/18000 [==============================] - 1s 39us/sample - loss: 0.2479\n",
            "Epoch 9/10\n",
            "18000/18000 [==============================] - 1s 40us/sample - loss: 0.2464\n",
            "Epoch 10/10\n",
            "18000/18000 [==============================] - 1s 39us/sample - loss: 0.2452\n"
          ],
          "name": "stdout"
        },
        {
          "output_type": "stream",
          "text": [
            "/tensorflow-2.1.0/python3.6/tensorflow_core/python/framework/indexed_slices.py:433: UserWarning: Converting sparse IndexedSlices to a dense Tensor of unknown shape. This may consume a large amount of memory.\n",
            "  \"Converting sparse IndexedSlices to a dense Tensor of unknown shape. \"\n"
          ],
          "name": "stderr"
        },
        {
          "output_type": "stream",
          "text": [
            "Exp 8\n",
            "Train on 18000 samples\n",
            "Epoch 1/10\n"
          ],
          "name": "stdout"
        },
        {
          "output_type": "stream",
          "text": [
            "/tensorflow-2.1.0/python3.6/tensorflow_core/python/framework/indexed_slices.py:433: UserWarning: Converting sparse IndexedSlices to a dense Tensor of unknown shape. This may consume a large amount of memory.\n",
            "  \"Converting sparse IndexedSlices to a dense Tensor of unknown shape. \"\n"
          ],
          "name": "stderr"
        },
        {
          "output_type": "stream",
          "text": [
            "\r   64/18000 [..............................] - ETA: 2:53 - loss: 1.0094"
          ],
          "name": "stdout"
        },
        {
          "output_type": "stream",
          "text": [
            "/tensorflow-2.1.0/python3.6/tensorflow_core/python/framework/indexed_slices.py:433: UserWarning: Converting sparse IndexedSlices to a dense Tensor of unknown shape. This may consume a large amount of memory.\n",
            "  \"Converting sparse IndexedSlices to a dense Tensor of unknown shape. \"\n"
          ],
          "name": "stderr"
        },
        {
          "output_type": "stream",
          "text": [
            "18000/18000 [==============================] - 1s 71us/sample - loss: 0.6946\n",
            "Epoch 2/10\n",
            "18000/18000 [==============================] - 1s 36us/sample - loss: 0.3391\n",
            "Epoch 3/10\n",
            "18000/18000 [==============================] - 1s 38us/sample - loss: 0.2830\n",
            "Epoch 4/10\n",
            "18000/18000 [==============================] - 1s 39us/sample - loss: 0.2689\n",
            "Epoch 5/10\n",
            "18000/18000 [==============================] - 1s 40us/sample - loss: 0.2633\n",
            "Epoch 6/10\n",
            "18000/18000 [==============================] - 1s 40us/sample - loss: 0.2592\n",
            "Epoch 7/10\n",
            "18000/18000 [==============================] - 1s 40us/sample - loss: 0.2571\n",
            "Epoch 8/10\n",
            "18000/18000 [==============================] - 1s 39us/sample - loss: 0.2555\n",
            "Epoch 9/10\n",
            "18000/18000 [==============================] - 1s 40us/sample - loss: 0.2541\n",
            "Epoch 10/10\n",
            "18000/18000 [==============================] - 1s 38us/sample - loss: 0.2527\n"
          ],
          "name": "stdout"
        },
        {
          "output_type": "stream",
          "text": [
            "/tensorflow-2.1.0/python3.6/tensorflow_core/python/framework/indexed_slices.py:433: UserWarning: Converting sparse IndexedSlices to a dense Tensor of unknown shape. This may consume a large amount of memory.\n",
            "  \"Converting sparse IndexedSlices to a dense Tensor of unknown shape. \"\n"
          ],
          "name": "stderr"
        },
        {
          "output_type": "stream",
          "text": [
            "Exp 9\n",
            "Train on 18000 samples\n",
            "Epoch 1/10\n"
          ],
          "name": "stdout"
        },
        {
          "output_type": "stream",
          "text": [
            "/tensorflow-2.1.0/python3.6/tensorflow_core/python/framework/indexed_slices.py:433: UserWarning: Converting sparse IndexedSlices to a dense Tensor of unknown shape. This may consume a large amount of memory.\n",
            "  \"Converting sparse IndexedSlices to a dense Tensor of unknown shape. \"\n"
          ],
          "name": "stderr"
        },
        {
          "output_type": "stream",
          "text": [
            "\r   64/18000 [..............................] - ETA: 2:40 - loss: 0.9516"
          ],
          "name": "stdout"
        },
        {
          "output_type": "stream",
          "text": [
            "/tensorflow-2.1.0/python3.6/tensorflow_core/python/framework/indexed_slices.py:433: UserWarning: Converting sparse IndexedSlices to a dense Tensor of unknown shape. This may consume a large amount of memory.\n",
            "  \"Converting sparse IndexedSlices to a dense Tensor of unknown shape. \"\n"
          ],
          "name": "stderr"
        },
        {
          "output_type": "stream",
          "text": [
            "18000/18000 [==============================] - 1s 68us/sample - loss: 0.6898\n",
            "Epoch 2/10\n",
            "18000/18000 [==============================] - 1s 37us/sample - loss: 0.3703\n",
            "Epoch 3/10\n",
            "18000/18000 [==============================] - 1s 37us/sample - loss: 0.3061\n",
            "Epoch 4/10\n",
            "18000/18000 [==============================] - 1s 39us/sample - loss: 0.2851\n",
            "Epoch 5/10\n",
            "18000/18000 [==============================] - 1s 38us/sample - loss: 0.2762\n",
            "Epoch 6/10\n",
            "18000/18000 [==============================] - 1s 39us/sample - loss: 0.2723\n",
            "Epoch 7/10\n",
            "18000/18000 [==============================] - 1s 38us/sample - loss: 0.2690\n",
            "Epoch 8/10\n",
            "18000/18000 [==============================] - 1s 39us/sample - loss: 0.2669\n",
            "Epoch 9/10\n",
            "18000/18000 [==============================] - 1s 42us/sample - loss: 0.2654\n",
            "Epoch 10/10\n",
            "18000/18000 [==============================] - 1s 42us/sample - loss: 0.2641\n"
          ],
          "name": "stdout"
        },
        {
          "output_type": "stream",
          "text": [
            "/tensorflow-2.1.0/python3.6/tensorflow_core/python/framework/indexed_slices.py:433: UserWarning: Converting sparse IndexedSlices to a dense Tensor of unknown shape. This may consume a large amount of memory.\n",
            "  \"Converting sparse IndexedSlices to a dense Tensor of unknown shape. \"\n"
          ],
          "name": "stderr"
        }
      ]
    },
    {
      "cell_type": "code",
      "metadata": {
        "id": "sNF_5CLTe69Y",
        "colab_type": "code",
        "outputId": "a02dc404-3965-4e11-e320-4b079246f19e",
        "colab": {
          "base_uri": "https://localhost:8080/",
          "height": 347
        }
      },
      "source": [
        "print('Random mean regret: {:.2f}'.format(cum_regretsRandom[:, -1].mean()))\n",
        "print('EG mean regret: {:.2f}'.format(cum_regretsEG[:, -1].mean()))\n",
        "print('DL mean regret: {:.2f}'.format(cum_regretsDL[:, -1].mean()))\n",
        "plt.plot(cum_regretsRandom.mean(axis=0), label='Mean Random', color='blue')\n",
        "plt.plot(np.quantile(cum_regretsRandom, 0.05, axis=0), color='blue', ls='--', alpha=0.5)\n",
        "plt.plot(np.quantile(cum_regretsRandom, 0.95, axis=0), color='blue', ls='--', alpha=0.5)\n",
        "plt.plot(cum_regretsEG.mean(axis=0), label='Mean EG', color='orange')\n",
        "plt.plot(np.quantile(cum_regretsEG, 0.05, axis=0), color='orange', ls='--', alpha=0.5)\n",
        "plt.plot(np.quantile(cum_regretsEG, 0.95, axis=0), color='orange', ls='--', alpha=0.5)\n",
        "plt.plot(cum_regretsDL.mean(axis=0), label='Mean DL', color='green')\n",
        "plt.plot(np.quantile(cum_regretsDL, 0.05, axis=0), color='green', ls='--', alpha=0.5)\n",
        "plt.plot(np.quantile(cum_regretsDL, 0.95, axis=0), color='green', ls='--', alpha=0.5)\n",
        "plt.xlabel('steps')\n",
        "plt.ylabel('regret')\n",
        "plt.legend()\n",
        "plt.title('Regret')\n",
        "plt.show()"
      ],
      "execution_count": 85,
      "outputs": [
        {
          "output_type": "stream",
          "text": [
            "Random mean regret: 12.87\n",
            "EG mean regret: 4.45\n",
            "DL mean regret: 12.34\n"
          ],
          "name": "stdout"
        },
        {
          "output_type": "display_data",
          "data": {
            "image/png": "[encoded data removed]",
            "text/plain": [
              "<Figure size 432x288 with 1 Axes>"
            ]
          },
          "metadata": {
            "tags": []
          }
        }
      ]
    },
    {
      "cell_type": "markdown",
      "metadata": {
        "id": "rD6xNQ-8XvWE",
        "colab_type": "text"
      },
      "source": [
        "On 10 tests, EG seems to reliably outperform random.\n",
        "DL was pretty good at the beginning but due to lack of training for the new users it didn't perform that well after 500 steps."
      ]
    },
    {
      "cell_type": "code",
      "metadata": {
        "id": "_YDrHIi5iHwM",
        "colab_type": "code",
        "outputId": "3826b5a5-8224-4948-8c16-e43786612a71",
        "colab": {
          "base_uri": "https://localhost:8080/",
          "height": 295
        }
      },
      "source": [
        "plt.plot(n_usersEG.mean(axis=0), label='n_users', color='blue')\n",
        "plt.plot(np.quantile(n_usersEG, 0.05, axis=0), color='blue', ls='--', alpha=0.5)\n",
        "plt.plot(np.quantile(n_usersEG, 0.95, axis=0), color='blue', ls='--', alpha=0.5)\n",
        "plt.plot(optimal_usersEG.mean(axis=0), label='optimal_users', color='red')\n",
        "plt.plot(np.quantile(optimal_usersEG, 0.05, axis=0), color='red', ls='--', alpha=0.5)\n",
        "plt.plot(np.quantile(optimal_usersEG, 0.95, axis=0), color='red', ls='--', alpha=0.5)\n",
        "plt.xlabel('steps')\n",
        "plt.ylabel('users')\n",
        "plt.legend()\n",
        "plt.title('EG')\n",
        "plt.show()"
      ],
      "execution_count": 86,
      "outputs": [
        {
          "output_type": "display_data",
          "data": {
            "image/png": "[encoded data removed]",
            "text/plain": [
              "<Figure size 432x288 with 1 Axes>"
            ]
          },
          "metadata": {
            "tags": []
          }
        }
      ]
    },
    {
      "cell_type": "code",
      "metadata": {
        "id": "Il7WwgGClknU",
        "colab_type": "code",
        "outputId": "5064cf5d-beff-41b0-92bf-32a107e71bed",
        "colab": {
          "base_uri": "https://localhost:8080/",
          "height": 295
        }
      },
      "source": [
        "plt.plot(n_usersRandom.mean(axis=0), label='n_users', color='blue')\n",
        "plt.plot(np.quantile(n_usersRandom, 0.05, axis=0), color='blue', ls='--', alpha=0.5)\n",
        "plt.plot(np.quantile(n_usersRandom, 0.95, axis=0), color='blue', ls='--', alpha=0.5)\n",
        "plt.plot(optimal_usersRandom.mean(axis=0), label='optimal_users', color='red')\n",
        "plt.plot(np.quantile(optimal_usersRandom, 0.05, axis=0), color='red', ls='--', alpha=0.5)\n",
        "plt.plot(np.quantile(optimal_usersRandom, 0.95, axis=0), color='red', ls='--', alpha=0.5)\n",
        "plt.xlabel('steps')\n",
        "plt.ylabel('users')\n",
        "plt.legend()\n",
        "plt.title('Random')\n",
        "plt.show()"
      ],
      "execution_count": 87,
      "outputs": [
        {
          "output_type": "display_data",
          "data": {
            "image/png": "[encoded data removed]",
            "text/plain": [
              "<Figure size 432x288 with 1 Axes>"
            ]
          },
          "metadata": {
            "tags": []
          }
        }
      ]
    },
    {
      "cell_type": "code",
      "metadata": {
        "id": "6QkYtmGF-tWj",
        "colab_type": "code",
        "colab": {
          "base_uri": "https://localhost:8080/",
          "height": 295
        },
        "outputId": "4731af2b-85c3-4ed6-9e7e-3f6e122d3e44"
      },
      "source": [
        "plt.plot(n_usersDL.mean(axis=0), label='n_users', color='blue')\n",
        "plt.plot(np.quantile(n_usersDL, 0.05, axis=0), color='blue', ls='--', alpha=0.5)\n",
        "plt.plot(np.quantile(n_usersDL, 0.95, axis=0), color='blue', ls='--', alpha=0.5)\n",
        "plt.plot(optimal_usersDL.mean(axis=0), label='optimal_users', color='red')\n",
        "plt.plot(np.quantile(optimal_usersDL, 0.05, axis=0), color='red', ls='--', alpha=0.5)\n",
        "plt.plot(np.quantile(optimal_usersDL, 0.95, axis=0), color='red', ls='--', alpha=0.5)\n",
        "plt.xlabel('steps')\n",
        "plt.ylabel('users')\n",
        "plt.legend()\n",
        "plt.title('DL')\n",
        "plt.show()"
      ],
      "execution_count": 88,
      "outputs": [
        {
          "output_type": "display_data",
          "data": {
            "image/png": "[encoded data removed]",
            "text/plain": [
              "<Figure size 432x288 with 1 Axes>"
            ]
          },
          "metadata": {
            "tags": []
          }
        }
      ]
    },
    {
      "cell_type": "markdown",
      "metadata": {
        "id": "8O9PVrrvKZl9",
        "colab_type": "text"
      },
      "source": [
        "The optimal return trend has a strange look at the beginning so there might be an error in the code, actually..."
      ]
    }
  ]
}